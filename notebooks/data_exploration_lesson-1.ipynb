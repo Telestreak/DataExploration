{
 "cells": [
  {
   "cell_type": "code",
   "execution_count": 1,
   "id": "lined-essence",
   "metadata": {},
   "outputs": [],
   "source": [
    "import pandas as pd"
   ]
  },
  {
   "cell_type": "code",
   "execution_count": 2,
   "id": "demographic-verification",
   "metadata": {},
   "outputs": [],
   "source": [
    "# read the .csv file into a dataframe called df\n",
    "df = pd.read_csv('../datasets/oci_dataset_2013.csv')"
   ]
  },
  {
   "cell_type": "code",
   "execution_count": 3,
   "id": "departmental-pizza",
   "metadata": {},
   "outputs": [
    {
     "data": {
      "text/html": [
       "<div>\n",
       "<style scoped>\n",
       "    .dataframe tbody tr th:only-of-type {\n",
       "        vertical-align: middle;\n",
       "    }\n",
       "\n",
       "    .dataframe tbody tr th {\n",
       "        vertical-align: top;\n",
       "    }\n",
       "\n",
       "    .dataframe thead th {\n",
       "        text-align: right;\n",
       "    }\n",
       "</style>\n",
       "<table border=\"1\" class=\"dataframe\">\n",
       "  <thead>\n",
       "    <tr style=\"text-align: right;\">\n",
       "      <th></th>\n",
       "      <th>Country</th>\n",
       "      <th>Mission</th>\n",
       "      <th>Date</th>\n",
       "      <th>OCI_Registered</th>\n",
       "      <th>OCI_Issued\\n\\n</th>\n",
       "      <th>Image_Scanned</th>\n",
       "      <th>OCI_Granted</th>\n",
       "      <th>OCI_Despatched_to_mission</th>\n",
       "      <th>OCI_Enquiries</th>\n",
       "    </tr>\n",
       "  </thead>\n",
       "  <tbody>\n",
       "    <tr>\n",
       "      <th>0</th>\n",
       "      <td>AUSTRALIA</td>\n",
       "      <td>MELBOURNE</td>\n",
       "      <td>01-01-2013</td>\n",
       "      <td>0.0</td>\n",
       "      <td>1.0</td>\n",
       "      <td>0.0</td>\n",
       "      <td>0.0</td>\n",
       "      <td>0.0</td>\n",
       "      <td>0.0</td>\n",
       "    </tr>\n",
       "    <tr>\n",
       "      <th>1</th>\n",
       "      <td>AUSTRALIA</td>\n",
       "      <td>PERTH</td>\n",
       "      <td>01-01-2013</td>\n",
       "      <td>0.0</td>\n",
       "      <td>22.0</td>\n",
       "      <td>0.0</td>\n",
       "      <td>0.0</td>\n",
       "      <td>0.0</td>\n",
       "      <td>0.0</td>\n",
       "    </tr>\n",
       "    <tr>\n",
       "      <th>2</th>\n",
       "      <td>AUSTRIA</td>\n",
       "      <td>VIENNA</td>\n",
       "      <td>01-01-2013</td>\n",
       "      <td>0.0</td>\n",
       "      <td>1.0</td>\n",
       "      <td>0.0</td>\n",
       "      <td>0.0</td>\n",
       "      <td>0.0</td>\n",
       "      <td>0.0</td>\n",
       "    </tr>\n",
       "    <tr>\n",
       "      <th>3</th>\n",
       "      <td>CANADA</td>\n",
       "      <td>OTTAWA</td>\n",
       "      <td>01-01-2013</td>\n",
       "      <td>0.0</td>\n",
       "      <td>11.0</td>\n",
       "      <td>0.0</td>\n",
       "      <td>11.0</td>\n",
       "      <td>0.0</td>\n",
       "      <td>0.0</td>\n",
       "    </tr>\n",
       "    <tr>\n",
       "      <th>4</th>\n",
       "      <td>CANADA</td>\n",
       "      <td>TORONTO</td>\n",
       "      <td>01-01-2013</td>\n",
       "      <td>0.0</td>\n",
       "      <td>49.0</td>\n",
       "      <td>47.0</td>\n",
       "      <td>0.0</td>\n",
       "      <td>0.0</td>\n",
       "      <td>0.0</td>\n",
       "    </tr>\n",
       "  </tbody>\n",
       "</table>\n",
       "</div>"
      ],
      "text/plain": [
       "     Country    Mission        Date  OCI_Registered  OCI_Issued\\n\\n  \\\n",
       "0  AUSTRALIA  MELBOURNE  01-01-2013             0.0             1.0   \n",
       "1  AUSTRALIA      PERTH  01-01-2013             0.0            22.0   \n",
       "2    AUSTRIA     VIENNA  01-01-2013             0.0             1.0   \n",
       "3     CANADA     OTTAWA  01-01-2013             0.0            11.0   \n",
       "4     CANADA    TORONTO  01-01-2013             0.0            49.0   \n",
       "\n",
       "   Image_Scanned   OCI_Granted  OCI_Despatched_to_mission  OCI_Enquiries  \n",
       "0             0.0          0.0                        0.0            0.0  \n",
       "1             0.0          0.0                        0.0            0.0  \n",
       "2             0.0          0.0                        0.0            0.0  \n",
       "3             0.0         11.0                        0.0            0.0  \n",
       "4            47.0          0.0                        0.0            0.0  "
      ]
     },
     "execution_count": 3,
     "metadata": {},
     "output_type": "execute_result"
    }
   ],
   "source": [
    "# display a sample of the file we just read from the .csv\n",
    "df.head()"
   ]
  }
 ],
 "metadata": {
  "kernelspec": {
   "display_name": "env_demo",
   "language": "python",
   "name": "env_demo"
  },
  "language_info": {
   "codemirror_mode": {
    "name": "ipython",
    "version": 3
   },
   "file_extension": ".py",
   "mimetype": "text/x-python",
   "name": "python",
   "nbconvert_exporter": "python",
   "pygments_lexer": "ipython3",
   "version": "3.8.5"
  }
 },
 "nbformat": 4,
 "nbformat_minor": 5
}
