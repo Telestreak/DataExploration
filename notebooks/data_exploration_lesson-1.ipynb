{
 "cells": [
  {
   "cell_type": "markdown",
   "id": "floral-python",
   "metadata": {},
   "source": [
    "This notebook is sourced from our notes here - https://telestreak.com/topics/tech/data/exploration/"
   ]
  },
  {
   "cell_type": "markdown",
   "id": "bored-christian",
   "metadata": {},
   "source": [
    "Welcome to Lesson-1 of the **Data Exploration with Python** series!\n",
    "In this notebook, we will explore a public dataset that contains Country/Mission wise [OCI details](https://data.gov.in/resources-from-web-service/3670801) from the Indian Open Government Data Platform. I am using some of these less explored datasets mimicing a typical work situation where the given data is probably from a new domain or has information that you may not have observed before.\n",
    "\n",
    "We will cover the lesson through below steps, introducing you to some basic commands/functions to analyze the dataset:\n",
    "1. Import required python libraries\n",
    "2. Read the dataset into a dataframe (since it is small file, the dataset already saved to my github repository in /telestreak/data_exp_setup/datasets)\n",
    "3. Analyze the dataset through various commands/functions"
   ]
  },
  {
   "cell_type": "markdown",
   "id": "lovely-portfolio",
   "metadata": {},
   "source": [
    "Every _cell_ below is either a **markdown** cell - containing formatted text OR a **code** cell - containing commands that can be executed.\n",
    "To execute a cell, place the cursor within the cell and hit the _play_ button from the toolbar at the top of this notebook or use the keyboard shortcut _Shift + Enter (or Return)_"
   ]
  },
  {
   "cell_type": "markdown",
   "id": "honey-ceiling",
   "metadata": {},
   "source": [
    "## 1. Import required Python libararies "
   ]
  },
  {
   "cell_type": "code",
   "execution_count": 16,
   "id": "limiting-valuable",
   "metadata": {},
   "outputs": [],
   "source": [
    "import pandas as pd"
   ]
  },
  {
   "cell_type": "markdown",
   "id": "raising-information",
   "metadata": {},
   "source": [
    "## 2. Read the dataset into a _dataframe_ "
   ]
  },
  {
   "cell_type": "code",
   "execution_count": 17,
   "id": "central-planning",
   "metadata": {},
   "outputs": [],
   "source": [
    "# Read the .csv file that is saved in this repository, into a dataframe called \"df\"\n",
    "df = pd.read_csv('../datasets/oci_dataset_2013.csv')"
   ]
  },
  {
   "cell_type": "markdown",
   "id": "unique-observer",
   "metadata": {},
   "source": [
    "A _dataframe_ is a two dimensional (consisting of rows and columns), tabular data structure provided by Python's _pandas_ library. Below command shows that _df_ is of type DataFrame from pandas library."
   ]
  },
  {
   "cell_type": "code",
   "execution_count": 18,
   "id": "intellectual-antigua",
   "metadata": {},
   "outputs": [
    {
     "data": {
      "text/plain": [
       "pandas.core.frame.DataFrame"
      ]
     },
     "execution_count": 18,
     "metadata": {},
     "output_type": "execute_result"
    }
   ],
   "source": [
    "type(df)"
   ]
  },
  {
   "cell_type": "code",
   "execution_count": 19,
   "id": "conceptual-mapping",
   "metadata": {},
   "outputs": [
    {
     "data": {
      "text/plain": [
       "(73575, 9)"
      ]
     },
     "execution_count": 19,
     "metadata": {},
     "output_type": "execute_result"
    }
   ],
   "source": [
    "df.shape"
   ]
  },
  {
   "cell_type": "code",
   "execution_count": 20,
   "id": "timely-mobility",
   "metadata": {},
   "outputs": [
    {
     "data": {
      "text/plain": [
       "Index(['Country', 'Mission', 'Date', 'OCI_Registered', 'OCI_Issued\\n\\n',\n",
       "       'Image_Scanned ', 'OCI_Granted', 'OCI_Despatched_to_mission',\n",
       "       'OCI_Enquiries'],\n",
       "      dtype='object')"
      ]
     },
     "execution_count": 20,
     "metadata": {},
     "output_type": "execute_result"
    }
   ],
   "source": [
    "df.columns"
   ]
  },
  {
   "cell_type": "markdown",
   "id": "dress-crowd",
   "metadata": {},
   "source": [
    "There are 73575 rows/records in the dataset with 9 columns/attributes. Let's display a sample of the file we just read from the .csv."
   ]
  },
  {
   "cell_type": "code",
   "execution_count": 21,
   "id": "dietary-maldives",
   "metadata": {},
   "outputs": [
    {
     "data": {
      "text/html": [
       "<div>\n",
       "<style scoped>\n",
       "    .dataframe tbody tr th:only-of-type {\n",
       "        vertical-align: middle;\n",
       "    }\n",
       "\n",
       "    .dataframe tbody tr th {\n",
       "        vertical-align: top;\n",
       "    }\n",
       "\n",
       "    .dataframe thead th {\n",
       "        text-align: right;\n",
       "    }\n",
       "</style>\n",
       "<table border=\"1\" class=\"dataframe\">\n",
       "  <thead>\n",
       "    <tr style=\"text-align: right;\">\n",
       "      <th></th>\n",
       "      <th>Country</th>\n",
       "      <th>Mission</th>\n",
       "      <th>Date</th>\n",
       "      <th>OCI_Registered</th>\n",
       "      <th>OCI_Issued\\n\\n</th>\n",
       "      <th>Image_Scanned</th>\n",
       "      <th>OCI_Granted</th>\n",
       "      <th>OCI_Despatched_to_mission</th>\n",
       "      <th>OCI_Enquiries</th>\n",
       "    </tr>\n",
       "  </thead>\n",
       "  <tbody>\n",
       "    <tr>\n",
       "      <th>0</th>\n",
       "      <td>AUSTRALIA</td>\n",
       "      <td>MELBOURNE</td>\n",
       "      <td>01-01-2013</td>\n",
       "      <td>0.0</td>\n",
       "      <td>1.0</td>\n",
       "      <td>0.0</td>\n",
       "      <td>0.0</td>\n",
       "      <td>0.0</td>\n",
       "      <td>0.0</td>\n",
       "    </tr>\n",
       "    <tr>\n",
       "      <th>1</th>\n",
       "      <td>AUSTRALIA</td>\n",
       "      <td>PERTH</td>\n",
       "      <td>01-01-2013</td>\n",
       "      <td>0.0</td>\n",
       "      <td>22.0</td>\n",
       "      <td>0.0</td>\n",
       "      <td>0.0</td>\n",
       "      <td>0.0</td>\n",
       "      <td>0.0</td>\n",
       "    </tr>\n",
       "    <tr>\n",
       "      <th>2</th>\n",
       "      <td>AUSTRIA</td>\n",
       "      <td>VIENNA</td>\n",
       "      <td>01-01-2013</td>\n",
       "      <td>0.0</td>\n",
       "      <td>1.0</td>\n",
       "      <td>0.0</td>\n",
       "      <td>0.0</td>\n",
       "      <td>0.0</td>\n",
       "      <td>0.0</td>\n",
       "    </tr>\n",
       "    <tr>\n",
       "      <th>3</th>\n",
       "      <td>CANADA</td>\n",
       "      <td>OTTAWA</td>\n",
       "      <td>01-01-2013</td>\n",
       "      <td>0.0</td>\n",
       "      <td>11.0</td>\n",
       "      <td>0.0</td>\n",
       "      <td>11.0</td>\n",
       "      <td>0.0</td>\n",
       "      <td>0.0</td>\n",
       "    </tr>\n",
       "    <tr>\n",
       "      <th>4</th>\n",
       "      <td>CANADA</td>\n",
       "      <td>TORONTO</td>\n",
       "      <td>01-01-2013</td>\n",
       "      <td>0.0</td>\n",
       "      <td>49.0</td>\n",
       "      <td>47.0</td>\n",
       "      <td>0.0</td>\n",
       "      <td>0.0</td>\n",
       "      <td>0.0</td>\n",
       "    </tr>\n",
       "  </tbody>\n",
       "</table>\n",
       "</div>"
      ],
      "text/plain": [
       "     Country    Mission        Date  OCI_Registered  OCI_Issued\\n\\n  \\\n",
       "0  AUSTRALIA  MELBOURNE  01-01-2013             0.0             1.0   \n",
       "1  AUSTRALIA      PERTH  01-01-2013             0.0            22.0   \n",
       "2    AUSTRIA     VIENNA  01-01-2013             0.0             1.0   \n",
       "3     CANADA     OTTAWA  01-01-2013             0.0            11.0   \n",
       "4     CANADA    TORONTO  01-01-2013             0.0            49.0   \n",
       "\n",
       "   Image_Scanned   OCI_Granted  OCI_Despatched_to_mission  OCI_Enquiries  \n",
       "0             0.0          0.0                        0.0            0.0  \n",
       "1             0.0          0.0                        0.0            0.0  \n",
       "2             0.0          0.0                        0.0            0.0  \n",
       "3             0.0         11.0                        0.0            0.0  \n",
       "4            47.0          0.0                        0.0            0.0  "
      ]
     },
     "execution_count": 21,
     "metadata": {},
     "output_type": "execute_result"
    }
   ],
   "source": [
    "df.head()"
   ]
  },
  {
   "cell_type": "markdown",
   "id": "classical-rehabilitation",
   "metadata": {},
   "source": [
    "Looks like one of the column names - \"OCI_Issued\" has new line characters (\\n). Let's give it a proper name.\n",
    "To learn more about the parameters that go in any function call, place your cursor on the function name and hit _Shift + Tab_ in your jupyter notebook."
   ]
  },
  {
   "cell_type": "code",
   "execution_count": 22,
   "id": "split-aging",
   "metadata": {},
   "outputs": [],
   "source": [
    "df.rename(columns={'OCI_Issued\\n\\n':'OCI_Issued'}, inplace=True)"
   ]
  },
  {
   "cell_type": "markdown",
   "id": "necessary-tsunami",
   "metadata": {},
   "source": [
    "Setting _inplace_ option to True, makes the changes to the dataframe within the same command, **in place** without creating a new dataframe with the modifications."
   ]
  },
  {
   "cell_type": "code",
   "execution_count": 23,
   "id": "integrated-cream",
   "metadata": {},
   "outputs": [
    {
     "data": {
      "text/html": [
       "<div>\n",
       "<style scoped>\n",
       "    .dataframe tbody tr th:only-of-type {\n",
       "        vertical-align: middle;\n",
       "    }\n",
       "\n",
       "    .dataframe tbody tr th {\n",
       "        vertical-align: top;\n",
       "    }\n",
       "\n",
       "    .dataframe thead th {\n",
       "        text-align: right;\n",
       "    }\n",
       "</style>\n",
       "<table border=\"1\" class=\"dataframe\">\n",
       "  <thead>\n",
       "    <tr style=\"text-align: right;\">\n",
       "      <th></th>\n",
       "      <th>Country</th>\n",
       "      <th>Mission</th>\n",
       "      <th>Date</th>\n",
       "      <th>OCI_Registered</th>\n",
       "      <th>OCI_Issued</th>\n",
       "      <th>Image_Scanned</th>\n",
       "      <th>OCI_Granted</th>\n",
       "      <th>OCI_Despatched_to_mission</th>\n",
       "      <th>OCI_Enquiries</th>\n",
       "    </tr>\n",
       "  </thead>\n",
       "  <tbody>\n",
       "    <tr>\n",
       "      <th>0</th>\n",
       "      <td>AUSTRALIA</td>\n",
       "      <td>MELBOURNE</td>\n",
       "      <td>01-01-2013</td>\n",
       "      <td>0.0</td>\n",
       "      <td>1.0</td>\n",
       "      <td>0.0</td>\n",
       "      <td>0.0</td>\n",
       "      <td>0.0</td>\n",
       "      <td>0.0</td>\n",
       "    </tr>\n",
       "    <tr>\n",
       "      <th>1</th>\n",
       "      <td>AUSTRALIA</td>\n",
       "      <td>PERTH</td>\n",
       "      <td>01-01-2013</td>\n",
       "      <td>0.0</td>\n",
       "      <td>22.0</td>\n",
       "      <td>0.0</td>\n",
       "      <td>0.0</td>\n",
       "      <td>0.0</td>\n",
       "      <td>0.0</td>\n",
       "    </tr>\n",
       "    <tr>\n",
       "      <th>2</th>\n",
       "      <td>AUSTRIA</td>\n",
       "      <td>VIENNA</td>\n",
       "      <td>01-01-2013</td>\n",
       "      <td>0.0</td>\n",
       "      <td>1.0</td>\n",
       "      <td>0.0</td>\n",
       "      <td>0.0</td>\n",
       "      <td>0.0</td>\n",
       "      <td>0.0</td>\n",
       "    </tr>\n",
       "    <tr>\n",
       "      <th>3</th>\n",
       "      <td>CANADA</td>\n",
       "      <td>OTTAWA</td>\n",
       "      <td>01-01-2013</td>\n",
       "      <td>0.0</td>\n",
       "      <td>11.0</td>\n",
       "      <td>0.0</td>\n",
       "      <td>11.0</td>\n",
       "      <td>0.0</td>\n",
       "      <td>0.0</td>\n",
       "    </tr>\n",
       "    <tr>\n",
       "      <th>4</th>\n",
       "      <td>CANADA</td>\n",
       "      <td>TORONTO</td>\n",
       "      <td>01-01-2013</td>\n",
       "      <td>0.0</td>\n",
       "      <td>49.0</td>\n",
       "      <td>47.0</td>\n",
       "      <td>0.0</td>\n",
       "      <td>0.0</td>\n",
       "      <td>0.0</td>\n",
       "    </tr>\n",
       "  </tbody>\n",
       "</table>\n",
       "</div>"
      ],
      "text/plain": [
       "     Country    Mission        Date  OCI_Registered  OCI_Issued  \\\n",
       "0  AUSTRALIA  MELBOURNE  01-01-2013             0.0         1.0   \n",
       "1  AUSTRALIA      PERTH  01-01-2013             0.0        22.0   \n",
       "2    AUSTRIA     VIENNA  01-01-2013             0.0         1.0   \n",
       "3     CANADA     OTTAWA  01-01-2013             0.0        11.0   \n",
       "4     CANADA    TORONTO  01-01-2013             0.0        49.0   \n",
       "\n",
       "   Image_Scanned   OCI_Granted  OCI_Despatched_to_mission  OCI_Enquiries  \n",
       "0             0.0          0.0                        0.0            0.0  \n",
       "1             0.0          0.0                        0.0            0.0  \n",
       "2             0.0          0.0                        0.0            0.0  \n",
       "3             0.0         11.0                        0.0            0.0  \n",
       "4            47.0          0.0                        0.0            0.0  "
      ]
     },
     "execution_count": 23,
     "metadata": {},
     "output_type": "execute_result"
    }
   ],
   "source": [
    "df.head()"
   ]
  },
  {
   "cell_type": "code",
   "execution_count": 24,
   "id": "governmental-wichita",
   "metadata": {},
   "outputs": [
    {
     "data": {
      "text/plain": [
       "0    01-01-2013\n",
       "1    01-01-2013\n",
       "2    01-01-2013\n",
       "3    01-01-2013\n",
       "4    01-01-2013\n",
       "Name: Date, dtype: object"
      ]
     },
     "execution_count": 24,
     "metadata": {},
     "output_type": "execute_result"
    }
   ],
   "source": [
    "# this column is of object type. Let's convert this to date format.\n",
    "df['Date'].head()"
   ]
  },
  {
   "cell_type": "code",
   "execution_count": 25,
   "id": "registered-clarity",
   "metadata": {},
   "outputs": [],
   "source": [
    "df['Date'] = pd.to_datetime(df['Date'])"
   ]
  },
  {
   "cell_type": "markdown",
   "id": "sized-emperor",
   "metadata": {},
   "source": [
    "## 3. Analyze dataset "
   ]
  },
  {
   "cell_type": "code",
   "execution_count": 26,
   "id": "associate-uniform",
   "metadata": {},
   "outputs": [
    {
     "data": {
      "text/plain": [
       "Timestamp('2013-01-01 00:00:00')"
      ]
     },
     "execution_count": 26,
     "metadata": {},
     "output_type": "execute_result"
    }
   ],
   "source": [
    "df['Date'].min()"
   ]
  },
  {
   "cell_type": "markdown",
   "id": "peripheral-matthew",
   "metadata": {},
   "source": [
    "Fits the description for the [dataset](https://data.gov.in/resources-from-web-service/3670801), that the OCI details starts from 2013-01-01 and is available up to 2018-12-02."
   ]
  },
  {
   "cell_type": "code",
   "execution_count": 27,
   "id": "backed-pocket",
   "metadata": {},
   "outputs": [
    {
     "data": {
      "text/plain": [
       "Timestamp('2018-12-02 00:00:00')"
      ]
     },
     "execution_count": 27,
     "metadata": {},
     "output_type": "execute_result"
    }
   ],
   "source": [
    "df['Date'].max()"
   ]
  },
  {
   "cell_type": "markdown",
   "id": "floating-consultancy",
   "metadata": {},
   "source": [
    "Does it have all dates between start and end?\n",
    "[Stackoverflow reference](https://stackoverflow.com/questions/52044348/check-for-any-missing-dates-in-the-index) for the command below."
   ]
  },
  {
   "cell_type": "code",
   "execution_count": 28,
   "id": "running-sewing",
   "metadata": {},
   "outputs": [
    {
     "data": {
      "text/plain": [
       "DatetimeIndex(['2013-02-24', '2013-03-11', '2013-04-14', '2013-05-05',\n",
       "               '2013-07-07', '2013-10-13', '2013-10-27', '2013-11-17',\n",
       "               '2013-11-24', '2013-12-14',\n",
       "               ...\n",
       "               '2018-11-21', '2018-11-22', '2018-11-23', '2018-11-24',\n",
       "               '2018-11-25', '2018-11-26', '2018-11-27', '2018-11-28',\n",
       "               '2018-11-29', '2018-11-30'],\n",
       "              dtype='datetime64[ns]', length=351, freq=None)"
      ]
     },
     "execution_count": 28,
     "metadata": {},
     "output_type": "execute_result"
    }
   ],
   "source": [
    "pd.date_range(start='2013-01-01', end='2018-12-02').difference(df['Date'])"
   ]
  },
  {
   "cell_type": "markdown",
   "id": "comprehensive-kinase",
   "metadata": {},
   "source": [
    "Try changing the _start_ and _end_ dates above to one year at a time, you'll notice that 2018 has numerous missing days, followed by 2014. For other years, there are some random days that are missing.\n",
    "I am assuming these are days when there was no activity in these missions."
   ]
  },
  {
   "cell_type": "markdown",
   "id": "missing-evolution",
   "metadata": {},
   "source": [
    "A handy command to generate some basic stats about the data"
   ]
  },
  {
   "cell_type": "code",
   "execution_count": 29,
   "id": "cleared-election",
   "metadata": {},
   "outputs": [
    {
     "data": {
      "text/html": [
       "<div>\n",
       "<style scoped>\n",
       "    .dataframe tbody tr th:only-of-type {\n",
       "        vertical-align: middle;\n",
       "    }\n",
       "\n",
       "    .dataframe tbody tr th {\n",
       "        vertical-align: top;\n",
       "    }\n",
       "\n",
       "    .dataframe thead th {\n",
       "        text-align: right;\n",
       "    }\n",
       "</style>\n",
       "<table border=\"1\" class=\"dataframe\">\n",
       "  <thead>\n",
       "    <tr style=\"text-align: right;\">\n",
       "      <th></th>\n",
       "      <th>OCI_Registered</th>\n",
       "      <th>OCI_Issued</th>\n",
       "      <th>Image_Scanned</th>\n",
       "      <th>OCI_Granted</th>\n",
       "      <th>OCI_Despatched_to_mission</th>\n",
       "      <th>OCI_Enquiries</th>\n",
       "    </tr>\n",
       "  </thead>\n",
       "  <tbody>\n",
       "    <tr>\n",
       "      <th>count</th>\n",
       "      <td>73525.000000</td>\n",
       "      <td>73525.000000</td>\n",
       "      <td>73525.000000</td>\n",
       "      <td>73525.000000</td>\n",
       "      <td>73525.000000</td>\n",
       "      <td>73525.000000</td>\n",
       "    </tr>\n",
       "    <tr>\n",
       "      <th>mean</th>\n",
       "      <td>21.001265</td>\n",
       "      <td>21.054104</td>\n",
       "      <td>19.315607</td>\n",
       "      <td>19.816770</td>\n",
       "      <td>45.726134</td>\n",
       "      <td>24.916695</td>\n",
       "    </tr>\n",
       "    <tr>\n",
       "      <th>std</th>\n",
       "      <td>45.195086</td>\n",
       "      <td>53.005048</td>\n",
       "      <td>49.512888</td>\n",
       "      <td>58.327617</td>\n",
       "      <td>117.374456</td>\n",
       "      <td>94.417887</td>\n",
       "    </tr>\n",
       "    <tr>\n",
       "      <th>min</th>\n",
       "      <td>0.000000</td>\n",
       "      <td>0.000000</td>\n",
       "      <td>0.000000</td>\n",
       "      <td>0.000000</td>\n",
       "      <td>0.000000</td>\n",
       "      <td>0.000000</td>\n",
       "    </tr>\n",
       "    <tr>\n",
       "      <th>25%</th>\n",
       "      <td>1.000000</td>\n",
       "      <td>0.000000</td>\n",
       "      <td>0.000000</td>\n",
       "      <td>0.000000</td>\n",
       "      <td>0.000000</td>\n",
       "      <td>0.000000</td>\n",
       "    </tr>\n",
       "    <tr>\n",
       "      <th>50%</th>\n",
       "      <td>4.000000</td>\n",
       "      <td>3.000000</td>\n",
       "      <td>0.000000</td>\n",
       "      <td>0.000000</td>\n",
       "      <td>6.000000</td>\n",
       "      <td>1.000000</td>\n",
       "    </tr>\n",
       "    <tr>\n",
       "      <th>75%</th>\n",
       "      <td>20.000000</td>\n",
       "      <td>17.000000</td>\n",
       "      <td>16.000000</td>\n",
       "      <td>10.000000</td>\n",
       "      <td>37.000000</td>\n",
       "      <td>17.000000</td>\n",
       "    </tr>\n",
       "    <tr>\n",
       "      <th>max</th>\n",
       "      <td>1427.000000</td>\n",
       "      <td>1062.000000</td>\n",
       "      <td>1082.000000</td>\n",
       "      <td>1655.000000</td>\n",
       "      <td>1984.000000</td>\n",
       "      <td>4715.000000</td>\n",
       "    </tr>\n",
       "  </tbody>\n",
       "</table>\n",
       "</div>"
      ],
      "text/plain": [
       "       OCI_Registered    OCI_Issued  Image_Scanned    OCI_Granted  \\\n",
       "count    73525.000000  73525.000000    73525.000000  73525.000000   \n",
       "mean        21.001265     21.054104       19.315607     19.816770   \n",
       "std         45.195086     53.005048       49.512888     58.327617   \n",
       "min          0.000000      0.000000        0.000000      0.000000   \n",
       "25%          1.000000      0.000000        0.000000      0.000000   \n",
       "50%          4.000000      3.000000        0.000000      0.000000   \n",
       "75%         20.000000     17.000000       16.000000     10.000000   \n",
       "max       1427.000000   1062.000000     1082.000000   1655.000000   \n",
       "\n",
       "       OCI_Despatched_to_mission  OCI_Enquiries  \n",
       "count               73525.000000   73525.000000  \n",
       "mean                   45.726134      24.916695  \n",
       "std                   117.374456      94.417887  \n",
       "min                     0.000000       0.000000  \n",
       "25%                     0.000000       0.000000  \n",
       "50%                     6.000000       1.000000  \n",
       "75%                    37.000000      17.000000  \n",
       "max                  1984.000000    4715.000000  "
      ]
     },
     "execution_count": 29,
     "metadata": {},
     "output_type": "execute_result"
    }
   ],
   "source": [
    "df.describe()"
   ]
  },
  {
   "cell_type": "markdown",
   "id": "fantastic-chile",
   "metadata": {},
   "source": [
    "Looks like the max number of OCIs registered in a day is 1427. Let's check the country and mission that has the highest OCIs registered in a day."
   ]
  },
  {
   "cell_type": "code",
   "execution_count": 30,
   "id": "dramatic-brush",
   "metadata": {},
   "outputs": [
    {
     "data": {
      "text/html": [
       "<div>\n",
       "<style scoped>\n",
       "    .dataframe tbody tr th:only-of-type {\n",
       "        vertical-align: middle;\n",
       "    }\n",
       "\n",
       "    .dataframe tbody tr th {\n",
       "        vertical-align: top;\n",
       "    }\n",
       "\n",
       "    .dataframe thead th {\n",
       "        text-align: right;\n",
       "    }\n",
       "</style>\n",
       "<table border=\"1\" class=\"dataframe\">\n",
       "  <thead>\n",
       "    <tr style=\"text-align: right;\">\n",
       "      <th></th>\n",
       "      <th>Country</th>\n",
       "      <th>Mission</th>\n",
       "      <th>Date</th>\n",
       "      <th>OCI_Registered</th>\n",
       "      <th>OCI_Issued</th>\n",
       "      <th>Image_Scanned</th>\n",
       "      <th>OCI_Granted</th>\n",
       "      <th>OCI_Despatched_to_mission</th>\n",
       "      <th>OCI_Enquiries</th>\n",
       "    </tr>\n",
       "  </thead>\n",
       "  <tbody>\n",
       "    <tr>\n",
       "      <th>57106</th>\n",
       "      <td>UNITED STATES</td>\n",
       "      <td>CHICAGO</td>\n",
       "      <td>2017-02-03</td>\n",
       "      <td>1427.0</td>\n",
       "      <td>63.0</td>\n",
       "      <td>12.0</td>\n",
       "      <td>27.0</td>\n",
       "      <td>47.0</td>\n",
       "      <td>59.0</td>\n",
       "    </tr>\n",
       "  </tbody>\n",
       "</table>\n",
       "</div>"
      ],
      "text/plain": [
       "             Country  Mission       Date  OCI_Registered  OCI_Issued  \\\n",
       "57106  UNITED STATES  CHICAGO 2017-02-03          1427.0        63.0   \n",
       "\n",
       "       Image_Scanned   OCI_Granted  OCI_Despatched_to_mission  OCI_Enquiries  \n",
       "57106            12.0         27.0                       47.0           59.0  "
      ]
     },
     "execution_count": 30,
     "metadata": {},
     "output_type": "execute_result"
    }
   ],
   "source": [
    "df[df['OCI_Registered'] == 1427]"
   ]
  },
  {
   "cell_type": "code",
   "execution_count": 31,
   "id": "absent-forward",
   "metadata": {},
   "outputs": [
    {
     "data": {
      "text/plain": [
       "119"
      ]
     },
     "execution_count": 31,
     "metadata": {},
     "output_type": "execute_result"
    }
   ],
   "source": [
    "# number of countries in the dataset\n",
    "df['Country'].nunique()"
   ]
  },
  {
   "cell_type": "code",
   "execution_count": 32,
   "id": "destroyed-refund",
   "metadata": {},
   "outputs": [
    {
     "data": {
      "text/plain": [
       "185"
      ]
     },
     "execution_count": 32,
     "metadata": {},
     "output_type": "execute_result"
    }
   ],
   "source": [
    "# number of missions\n",
    "df['Mission'].nunique()"
   ]
  },
  {
   "cell_type": "markdown",
   "id": "decreased-ukraine",
   "metadata": {},
   "source": [
    "20 countries regsitering most OCIs. Here I am grouping by _Country_, to get total OCI registrations. I then sort the values from the result in descending order"
   ]
  },
  {
   "cell_type": "code",
   "execution_count": 33,
   "id": "concrete-taiwan",
   "metadata": {},
   "outputs": [
    {
     "data": {
      "text/plain": [
       "Country\n",
       "UNITED STATES     432168.0\n",
       "UNITED KINGDOM    420678.0\n",
       "AUSTRALIA         191403.0\n",
       "CANADA             97061.0\n",
       "INDIA              79840.0\n",
       "MALAYSIA           37112.0\n",
       "SINGAPORE          35958.0\n",
       "ITALY              31434.0\n",
       "GERMANY            23789.0\n",
       "NEW ZEALAND        22383.0\n",
       "FRANCE             21291.0\n",
       "KENYA              13619.0\n",
       "IRELAND            13541.0\n",
       "NETHERLANDS        10095.0\n",
       "UAE                 7899.0\n",
       "TANZANIA            6937.0\n",
       "SOUTH AFRICA        6438.0\n",
       "NORWAY              6378.0\n",
       "AUSTRIA             5769.0\n",
       "BELGIUM             5396.0\n",
       "Name: OCI_Registered, dtype: float64"
      ]
     },
     "execution_count": 33,
     "metadata": {},
     "output_type": "execute_result"
    }
   ],
   "source": [
    "df.groupby('Country')['OCI_Registered'].sum().sort_values(ascending=False).head(20)"
   ]
  },
  {
   "cell_type": "code",
   "execution_count": 34,
   "id": "middle-sucking",
   "metadata": {},
   "outputs": [
    {
     "data": {
      "text/plain": [
       "Country\n",
       "MALI                         2.0\n",
       "CUBA                         3.0\n",
       "SOUTH SUDAN                  5.0\n",
       "SERBIA                       5.0\n",
       "ALGERIA                      6.0\n",
       "MONGOLIA                     8.0\n",
       "NIB                         12.0\n",
       "LEBANON                     13.0\n",
       "BANGLADESH                  14.0\n",
       "TUNISIA                     17.0\n",
       "NEPAL                       18.0\n",
       "TAJIKISTAN                  18.0\n",
       "SNG                         18.0\n",
       "NIA                         21.0\n",
       "GUATEMALA                   21.0\n",
       "MOROCCO                     23.0\n",
       "ARMENIA                     25.0\n",
       "NAMIBIA                     26.0\n",
       "ZAIRE (DEM REP OF CONGO)    28.0\n",
       "KYRGYZSTAN                  29.0\n",
       "Name: OCI_Registered, dtype: float64"
      ]
     },
     "execution_count": 34,
     "metadata": {},
     "output_type": "execute_result"
    }
   ],
   "source": [
    "# 20 countries with few OCIs registered\n",
    "df.groupby('Country')['OCI_Registered'].sum().sort_values(ascending=True).head(20)"
   ]
  },
  {
   "cell_type": "code",
   "execution_count": 35,
   "id": "continuous-engineer",
   "metadata": {},
   "outputs": [
    {
     "data": {
      "text/plain": [
       "Mission\n",
       "LONDON           291260.0\n",
       "NEW YORK CGI     145861.0\n",
       "BIRMINGHAM       122445.0\n",
       "SAN FRANCISCO     88126.0\n",
       "SYDNEY            72643.0\n",
       "CHICAGO           67646.0\n",
       "MELBOURNE         66003.0\n",
       "TORONTO           48918.0\n",
       "HOUSTON           46979.0\n",
       "ATLANTA           46590.0\n",
       "VANCOUVER         42512.0\n",
       "KUALA LUMPUR      37112.0\n",
       "WASHINGTON DC     36966.0\n",
       "SINGAPORE         35958.0\n",
       "FRRO MUMBAI       27711.0\n",
       "CANBERRA          27398.0\n",
       "PERTH             25359.0\n",
       "WELLINGTON        22383.0\n",
       "PARIS             21291.0\n",
       "MILAN             21055.0\n",
       "Name: OCI_Registered, dtype: float64"
      ]
     },
     "execution_count": 35,
     "metadata": {},
     "output_type": "execute_result"
    }
   ],
   "source": [
    "# 20 missions regsitering most OCIs\n",
    "df.groupby('Mission')['OCI_Registered'].sum().sort_values(ascending=False).head(20)"
   ]
  },
  {
   "cell_type": "code",
   "execution_count": null,
   "id": "greenhouse-browse",
   "metadata": {},
   "outputs": [],
   "source": [
    "# Can you complete this command to find the missions with most enqueries?\n",
    "df.groupby('')[''].sum().sort_values(ascending=False).head(20)"
   ]
  },
  {
   "cell_type": "markdown",
   "id": "matched-replication",
   "metadata": {},
   "source": [
    "Show a sample set with countries having _UNITED_ in their name."
   ]
  },
  {
   "cell_type": "code",
   "execution_count": 36,
   "id": "average-notification",
   "metadata": {},
   "outputs": [
    {
     "data": {
      "text/html": [
       "<div>\n",
       "<style scoped>\n",
       "    .dataframe tbody tr th:only-of-type {\n",
       "        vertical-align: middle;\n",
       "    }\n",
       "\n",
       "    .dataframe tbody tr th {\n",
       "        vertical-align: top;\n",
       "    }\n",
       "\n",
       "    .dataframe thead th {\n",
       "        text-align: right;\n",
       "    }\n",
       "</style>\n",
       "<table border=\"1\" class=\"dataframe\">\n",
       "  <thead>\n",
       "    <tr style=\"text-align: right;\">\n",
       "      <th></th>\n",
       "      <th>Country</th>\n",
       "      <th>Mission</th>\n",
       "      <th>Date</th>\n",
       "      <th>OCI_Registered</th>\n",
       "      <th>OCI_Issued</th>\n",
       "      <th>Image_Scanned</th>\n",
       "      <th>OCI_Granted</th>\n",
       "      <th>OCI_Despatched_to_mission</th>\n",
       "      <th>OCI_Enquiries</th>\n",
       "    </tr>\n",
       "  </thead>\n",
       "  <tbody>\n",
       "    <tr>\n",
       "      <th>23</th>\n",
       "      <td>UNITED KINGDOM</td>\n",
       "      <td>LONDON</td>\n",
       "      <td>2013-01-01</td>\n",
       "      <td>0.0</td>\n",
       "      <td>207.0</td>\n",
       "      <td>0.0</td>\n",
       "      <td>0.0</td>\n",
       "      <td>0.0</td>\n",
       "      <td>0.0</td>\n",
       "    </tr>\n",
       "    <tr>\n",
       "      <th>24</th>\n",
       "      <td>UNITED STATES</td>\n",
       "      <td>CHICAGO</td>\n",
       "      <td>2013-01-01</td>\n",
       "      <td>47.0</td>\n",
       "      <td>0.0</td>\n",
       "      <td>51.0</td>\n",
       "      <td>0.0</td>\n",
       "      <td>0.0</td>\n",
       "      <td>0.0</td>\n",
       "    </tr>\n",
       "    <tr>\n",
       "      <th>25</th>\n",
       "      <td>UNITED STATES</td>\n",
       "      <td>NEW YORK CGI</td>\n",
       "      <td>2013-01-01</td>\n",
       "      <td>75.0</td>\n",
       "      <td>181.0</td>\n",
       "      <td>42.0</td>\n",
       "      <td>126.0</td>\n",
       "      <td>0.0</td>\n",
       "      <td>0.0</td>\n",
       "    </tr>\n",
       "    <tr>\n",
       "      <th>26</th>\n",
       "      <td>UNITED STATES</td>\n",
       "      <td>SAN FRANCISCO</td>\n",
       "      <td>2013-01-01</td>\n",
       "      <td>54.0</td>\n",
       "      <td>127.0</td>\n",
       "      <td>55.0</td>\n",
       "      <td>97.0</td>\n",
       "      <td>0.0</td>\n",
       "      <td>0.0</td>\n",
       "    </tr>\n",
       "    <tr>\n",
       "      <th>27</th>\n",
       "      <td>UNITED STATES</td>\n",
       "      <td>WASHINGTON DC</td>\n",
       "      <td>2013-01-01</td>\n",
       "      <td>12.0</td>\n",
       "      <td>84.0</td>\n",
       "      <td>4.0</td>\n",
       "      <td>83.0</td>\n",
       "      <td>0.0</td>\n",
       "      <td>0.0</td>\n",
       "    </tr>\n",
       "  </tbody>\n",
       "</table>\n",
       "</div>"
      ],
      "text/plain": [
       "           Country        Mission       Date  OCI_Registered  OCI_Issued  \\\n",
       "23  UNITED KINGDOM         LONDON 2013-01-01             0.0       207.0   \n",
       "24   UNITED STATES        CHICAGO 2013-01-01            47.0         0.0   \n",
       "25   UNITED STATES   NEW YORK CGI 2013-01-01            75.0       181.0   \n",
       "26   UNITED STATES  SAN FRANCISCO 2013-01-01            54.0       127.0   \n",
       "27   UNITED STATES  WASHINGTON DC 2013-01-01            12.0        84.0   \n",
       "\n",
       "    Image_Scanned   OCI_Granted  OCI_Despatched_to_mission  OCI_Enquiries  \n",
       "23             0.0          0.0                        0.0            0.0  \n",
       "24            51.0          0.0                        0.0            0.0  \n",
       "25            42.0        126.0                        0.0            0.0  \n",
       "26            55.0         97.0                        0.0            0.0  \n",
       "27             4.0         83.0                        0.0            0.0  "
      ]
     },
     "execution_count": 36,
     "metadata": {},
     "output_type": "execute_result"
    }
   ],
   "source": [
    "df[df['Country'].str.contains('UNITED', na=True)].head()"
   ]
  },
  {
   "cell_type": "markdown",
   "id": "extra-fitting",
   "metadata": {},
   "source": [
    "What is the mean OCI registrations in Washington DC by day?"
   ]
  },
  {
   "cell_type": "code",
   "execution_count": 37,
   "id": "trained-laser",
   "metadata": {},
   "outputs": [
    {
     "data": {
      "text/plain": [
       "27.443207126948774"
      ]
     },
     "execution_count": 37,
     "metadata": {},
     "output_type": "execute_result"
    }
   ],
   "source": [
    "df[df['Mission'] == 'WASHINGTON DC']['OCI_Registered'].mean()"
   ]
  },
  {
   "cell_type": "code",
   "execution_count": 38,
   "id": "suburban-bikini",
   "metadata": {},
   "outputs": [
    {
     "data": {
      "text/plain": [
       "1544118.0"
      ]
     },
     "execution_count": 38,
     "metadata": {},
     "output_type": "execute_result"
    }
   ],
   "source": [
    "df['OCI_Registered'].sum()"
   ]
  },
  {
   "cell_type": "code",
   "execution_count": 39,
   "id": "subtle-module",
   "metadata": {},
   "outputs": [
    {
     "data": {
      "text/plain": [
       "1548003.0"
      ]
     },
     "execution_count": 39,
     "metadata": {},
     "output_type": "execute_result"
    }
   ],
   "source": [
    "df['OCI_Issued'].sum()"
   ]
  },
  {
   "cell_type": "code",
   "execution_count": 40,
   "id": "arabic-sweet",
   "metadata": {},
   "outputs": [
    {
     "data": {
      "text/plain": [
       "1457028.0"
      ]
     },
     "execution_count": 40,
     "metadata": {},
     "output_type": "execute_result"
    }
   ],
   "source": [
    "df['OCI_Granted'].sum()"
   ]
  },
  {
   "cell_type": "markdown",
   "id": "running-highlight",
   "metadata": {},
   "source": [
    "OCI registered in a given day doesn't necessarily get issued or granted the same day. But the total number of OCIs issued being higher than the total number of OCIs registered for this time period, could indicate:\n",
    "1. The additional OCIs issued are from a past period, not in this data set\n",
    "2. There are times when people have to get their OCIs re-issued (for example, when they reach the age of 19). Assuming they don't have to register again, the number of issued could be high. However, the difference is just ~4K over ~1.5MM - making (1) a more reasonable explanation."
   ]
  },
  {
   "cell_type": "markdown",
   "id": "higher-immigration",
   "metadata": {},
   "source": [
    "## Summary"
   ]
  },
  {
   "cell_type": "markdown",
   "id": "offensive-picking",
   "metadata": {},
   "source": [
    "In this lesson, we used some basic commands and functions from the _pandas_ library to read a public dataset having OCI details. We also performed some basic data transformations and analysis to build familiarity on this dataset.\n",
    "\n",
    "Data transformations:\n",
    "- renaming a dataframe column\n",
    "- changing datatype of an _object_ type to _date_\n",
    "\n",
    "Functions for data exploration:\n",
    "- read_csv()\n",
    "- shape()\n",
    "- columns()\n",
    "- head()\n",
    "- min(), max(), sum(), mean(), describe()\n",
    "- date_range()\n",
    "- nunique()\n",
    "- groupby()\n",
    "- sort_values()"
   ]
  }
 ],
 "metadata": {
  "kernelspec": {
   "display_name": "env_demo",
   "language": "python",
   "name": "env_demo"
  },
  "language_info": {
   "codemirror_mode": {
    "name": "ipython",
    "version": 3
   },
   "file_extension": ".py",
   "mimetype": "text/x-python",
   "name": "python",
   "nbconvert_exporter": "python",
   "pygments_lexer": "ipython3",
   "version": "3.8.5"
  }
 },
 "nbformat": 4,
 "nbformat_minor": 5
}
